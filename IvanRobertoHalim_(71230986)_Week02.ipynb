{
  "nbformat": 4,
  "nbformat_minor": 0,
  "metadata": {
    "colab": {
      "provenance": []
    },
    "kernelspec": {
      "name": "python3",
      "display_name": "Python 3"
    },
    "language_info": {
      "name": "python"
    }
  },
  "cells": [
    {
      "cell_type": "code",
      "execution_count": 1,
      "metadata": {
        "colab": {
          "base_uri": "https://localhost:8080/"
        },
        "id": "kMkAv0XRPQ8P",
        "outputId": "5694c816-a44b-4b9f-b143-7d4e3476995c"
      },
      "outputs": [
        {
          "output_type": "stream",
          "name": "stdout",
          "text": [
            "Silahkan masukkan tinggi badan Anda (cm) : 171\n",
            "Silahkan masukkan Body Mass Index yang diharapkan : 18.5\n",
            "Berat badan yang Anda perlukan adalah : 54 kg\n"
          ]
        }
      ],
      "source": [
        "#Soal 1\n",
        "\n",
        "# KETERANGAN NAMA VARIABEL :\n",
        "# tinggi_cm = tinggi badan dalam satuan cm\n",
        "# bmi = Body Mass Index yang diharapkan\n",
        "# tinggi_m = tinggi badan dalam satuan m\n",
        "# berat_badan = berat badan dalam satuan kg\n",
        "\n",
        "tinggi_cm = int(input(\"Silahkan masukkan tinggi badan Anda (cm) : \"))\n",
        "bmi = float(input(\"Silahkan masukkan Body Mass Index yang diharapkan : \"))\n",
        "\n",
        "tinggi_m = tinggi_cm / 100\n",
        "\n",
        "berat_badan = bmi * tinggi_m**2\n",
        "\n",
        "print(f\"Berat badan yang Anda perlukan adalah : {round(berat_badan)} kg\")"
      ]
    },
    {
      "cell_type": "code",
      "source": [
        "#Soal 2\n",
        "\n",
        "# KETERANGAN NAMA VARIABEL :\n",
        "# x = nilai x dalam fungsi f(x)\n",
        "# fungsi = fungsi f(x)\n",
        "\n",
        "x = int(input(\"Masukkan nilai x : \"))\n",
        "\n",
        "fungsi = 2*x**3 + 2*x + 15/x\n",
        "\n",
        "print(\"Hasilnya adalah :\", fungsi)"
      ],
      "metadata": {
        "colab": {
          "base_uri": "https://localhost:8080/"
        },
        "id": "CRdVQd3MPYRX",
        "outputId": "440b9888-49e9-4826-e250-41570ac6a543"
      },
      "execution_count": 2,
      "outputs": [
        {
          "output_type": "stream",
          "name": "stdout",
          "text": [
            "Masukkan nilai x : 3\n",
            "Hasilnya adalah : 65.0\n"
          ]
        }
      ]
    },
    {
      "cell_type": "code",
      "source": [
        "#Soal 3\n",
        "\n",
        "# KETERANGAN NAMA VARIABEL :\n",
        "# gaji = gaji per jam yang diperoleh\n",
        "# jam_kerja = jumlah jam kerja dalam 1 minggu\n",
        "# sebelum_pajak = jumlah total pendapatan Budi sebelum Ia membayar pajak\n",
        "# pajak = nominal pajak yang harus dibayar Budi\n",
        "# setelah_pajak = jumlah total pendapatan Budi setelah Ia membayar pajak\n",
        "# baju_aksesoris = jumlah uang yang Budi habiskan untuk membeli baju dan aksesoris\n",
        "# alat_tulis = jumlah uang yang Budi habiskan untuk membeli alat tulis\n",
        "# sisa_uang = sisa uang yang dimiliki Budi\n",
        "# sedekah = jumlah total uang yang Budi sedekahkan\n",
        "# untuk_yatim = jumlah uang yang Budi sedekahkan untuk anak yatim\n",
        "# untuk_dhuafa = jumlah uang yang Budi sedekahkan untuk kaum dhuafa\n",
        "\n",
        "gaji = int(input(\"Gaji per jam yang Anda inginkan : Rp.\"))\n",
        "jam_kerja = int(input(\"Jumlah jam kerja yang akan dilakukan dalam 1 minggu : \"))\n",
        "\n",
        "sebelum_pajak = gaji * jam_kerja * 5\n",
        "print(f\"Pendapatan Budi selama libur musim panas sebelum membayar pajak : Rp.{sebelum_pajak}\")\n",
        "\n",
        "pajak = sebelum_pajak * 0.14\n",
        "setelah_pajak = sebelum_pajak - pajak\n",
        "print(f\"Pendapatan Budi selama libur musim panas setelah melakukan pembayaran pajak : Rp.{round(setelah_pajak)}\")\n",
        "\n",
        "baju_aksesoris = setelah_pajak * 0.1\n",
        "sisa_uang = setelah_pajak - baju_aksesoris\n",
        "print(f\"Jumlah uang yang akan Budi habiskan untuk membeli pakaian dan aksesoris : Rp.{round(baju_aksesoris)}\")\n",
        "print(f\"Sisa uang Budi : Rp.{round(sisa_uang)}\")\n",
        "\n",
        "alat_tulis = setelah_pajak * 0.01\n",
        "sisa_uang = sisa_uang - alat_tulis\n",
        "print(f\"Jumlah uang yang akan Budi habiskan untuk membeli alat tulis : Rp.{round(alat_tulis)}\")\n",
        "print(f\"Sisa uang Budi : Rp.{round(sisa_uang)}\")\n",
        "\n",
        "sedekah = sisa_uang * 0.25\n",
        "sisa_uang = sisa_uang - sedekah\n",
        "print(f\"Jumlah uang yang akan Budi sedekahkan : Rp.{round(sedekah)}\")\n",
        "print(f\"Sisa uang Budi : Rp.{round(sisa_uang)}\")\n",
        "\n",
        "untuk_yatim = sedekah * 0.3\n",
        "untuk_dhuafa = sedekah - untuk_yatim\n",
        "print(f\"Jumlah uang yang akan diterima anak yatim : Rp.{round(untuk_yatim)}\")\n",
        "print(f\"Jumlah uang yang akan diterima kaum dhuafa : Rp.{round(untuk_dhuafa)}\")"
      ],
      "metadata": {
        "colab": {
          "base_uri": "https://localhost:8080/"
        },
        "id": "C7e01I3OPbc-",
        "outputId": "0f893680-9367-4ed5-8588-46413af229f8"
      },
      "execution_count": 3,
      "outputs": [
        {
          "output_type": "stream",
          "name": "stdout",
          "text": [
            "Gaji per jam yang Anda inginkan : Rp.20000\n",
            "Jumlah jam kerja yang akan dilakukan dalam 1 minggu : 42\n",
            "Pendapatan Budi selama libur musim panas sebelum membayar pajak : Rp.4200000\n",
            "Pendapatan Budi selama libur musim panas setelah melakukan pembayaran pajak : Rp.3612000\n",
            "Jumlah uang yang akan Budi habiskan untuk membeli pakaian dan aksesoris : Rp.361200\n",
            "Sisa uang Budi : Rp.3250800\n",
            "Jumlah uang yang akan Budi habiskan untuk membeli alat tulis : Rp.36120\n",
            "Sisa uang Budi : Rp.3214680\n",
            "Jumlah uang yang akan Budi sedekahkan : Rp.803670\n",
            "Sisa uang Budi : Rp.2411010\n",
            "Jumlah uang yang akan diterima anak yatim : Rp.241101\n",
            "Jumlah uang yang akan diterima kaum dhuafa : Rp.562569\n"
          ]
        }
      ]
    }
  ]
}